{
 "cells": [
  {
   "cell_type": "markdown",
   "metadata": {},
   "source": [
    "__Write a Python program which accepts the radius of a circle from the user and\n",
    "compute the area.__"
   ]
  },
  {
   "cell_type": "code",
   "execution_count": 77,
   "metadata": {},
   "outputs": [
    {
     "name": "stdout",
     "output_type": "stream",
     "text": [
      "Enter tha Radius of the Circle : 3\n",
      "The Area of the Circle is :  28.26\n"
     ]
    }
   ],
   "source": [
    "Radius=float(input(\"Enter tha Radius of the Circle : \")) #Take Input in float so that we can also give int as an input\n",
    "pi=3.14 \n",
    "Area =pi * Radius**2\n",
    "print(\"The Area of the Circle is : \",Area)"
   ]
  },
  {
   "cell_type": "markdown",
   "metadata": {},
   "source": [
    "__Write a Python program which accepts the user's first and last name and print\n",
    "them in reverse order with a space between them.__\n"
   ]
  },
  {
   "cell_type": "code",
   "execution_count": 78,
   "metadata": {},
   "outputs": [
    {
     "name": "stdout",
     "output_type": "stream",
     "text": [
      "Enter Your First Name : Arshad Ansari\n",
      "Enter Your Second Name : Mr\n",
      "\n",
      "\n",
      "\n",
      "Reverse of Arshad is : irasnA dahsrA\n",
      "\n",
      "Reverse of Ansari is : rM"
     ]
    }
   ],
   "source": [
    "First_Name=input(\"Enter Your First Name : \")\n",
    "Second_Name=input(\"Enter Your Second Name : \")\n",
    "\n",
    "Len_1st=len(First_Name)\n",
    "Len_2nd=len(Second_Name)\n",
    "\n",
    "print(\"\\n\\n\")\n",
    "\n",
    "print(\"Reverse of Arshad is : \",end=\"\")\n",
    "\n",
    "for i in range((Len_1st)-1,-1,-1):\n",
    "    print(First_Name[i],end=\"\")\n",
    "\n",
    "print(\"\\n\")\n",
    "\n",
    "print(\"Reverse of Ansari is : \",end=\"\")\n",
    "\n",
    "for i in range((Len_2nd)-1,-1,-1):\n",
    "    print(Second_Name[i],end=\"\")\n",
    "    \n",
    "    "
   ]
  },
  {
   "cell_type": "code",
   "execution_count": 81,
   "metadata": {},
   "outputs": [
    {
     "name": "stdout",
     "output_type": "stream",
     "text": [
      "Enter Your First Name : Arshad\n",
      "Enter Your Second Name : Ansari\n",
      "Ansari Arshad\n"
     ]
    }
   ],
   "source": [
    "# Same Question as Above \n",
    "\n",
    "First_Name=input(\"Enter Your First Name : \")\n",
    "Second_Name=input(\"Enter Your Second Name : \")\n",
    "\n",
    "print(Second_Name,First_Name)\n",
    "\n",
    "\n"
   ]
  },
  {
   "cell_type": "markdown",
   "metadata": {},
   "source": [
    "__Write a Python program which checks if the input number is divisible by 3 or not.__"
   ]
  },
  {
   "cell_type": "code",
   "execution_count": 86,
   "metadata": {},
   "outputs": [
    {
     "name": "stdout",
     "output_type": "stream",
     "text": [
      "Enter a number to checks if its divisible by 3 or not : kjsjhfhs\n",
      "The Entered Number is not an Interger ....! Please Enter Integer\n"
     ]
    }
   ],
   "source": [
    "Number=input(\"Enter a number to checks if its divisible by 3 or not : \")\n",
    "try:\n",
    "    Number=int(Number)\n",
    "    if (Number%3==0):\n",
    "        print(\"\\nThe Number\" , Number,\"is Divisible by 3\")\n",
    "    \n",
    "    else:\n",
    "        print(\"\\nThe Number\" , Number,\"is not Divisible by 3\")\n",
    "except ValueError:\n",
    "    print(\"The Entered Value is not an Interger ....! Please Enter Integer\")"
   ]
  },
  {
   "cell_type": "markdown",
   "metadata": {},
   "source": [
    "__Write a Python program to implement 5 functions of the math module (other than\n",
    "what was taught in the session).__"
   ]
  },
  {
   "cell_type": "code",
   "execution_count": 87,
   "metadata": {},
   "outputs": [
    {
     "name": "stdout",
     "output_type": "stream",
     "text": [
      "Taking Factorial  6\n",
      "Converting Radians to Degree  90.04153611038745\n",
      "x Raise To y  8.0\n",
      "Sin of Angle  0.8939966636005579\n",
      "Returns tha Remainder  1.0\n",
      "Returns Truncated value  2\n"
     ]
    }
   ],
   "source": [
    "import math\n",
    "#def factorial(x)\n",
    "print(\"Taking Factorial \",math.factorial(3))  # Factorial\n",
    "print(\"Converting Radians to Degree \",math.radians(5159)) # Convert radian to Degree\n",
    "print(\"x Raise To y \",math.pow(2,3))      # Power 2 raise to 3\n",
    "print(\"Sin of Angle \",math.sin(90))       # sin of 90\n",
    "print(\"Returns tha Remainder \",math.fmod(5,2))     # Returns the Remainder\n",
    "print(\"Returns Truncated value \",math.trunc(2.3445)) # Returns 2"
   ]
  },
  {
   "cell_type": "markdown",
   "metadata": {},
   "source": [
    "__WAP to do a sum of squares.__"
   ]
  },
  {
   "cell_type": "code",
   "execution_count": 6,
   "metadata": {},
   "outputs": [
    {
     "name": "stdout",
     "output_type": "stream",
     "text": [
      "Enter an Integer ddf\n",
      "The Entered Value is not an Interger ....! Please Enter Integer\n"
     ]
    }
   ],
   "source": [
    "import math\n",
    "def square(x):    \n",
    "    try:\n",
    "        Sum=0\n",
    "        x=int(x)\n",
    "        for i in range (0,x+1,1):\n",
    "            Sum=Sum + math.pow(i,2)\n",
    "            \n",
    "            \n",
    "        print(\"sum of squares till Entered Number is = \",Sum)\n",
    "    except:\n",
    "        print(\"The Entered Value is not an Interger ....! Please Enter Integer\")\n",
    "        \n",
    "        \n",
    "square(input(\"Enter an Integer \"))"
   ]
  },
  {
   "cell_type": "markdown",
   "metadata": {},
   "source": [
    "__Write a void function that receives a 4 digit number and calculates the sum of\n",
    "squares of first 2 digits number and last two-digit number (Hint:- if 1233 is passed\n",
    "as an argument then the function should calculate 12**2+33**2)__"
   ]
  },
  {
   "cell_type": "code",
   "execution_count": 9,
   "metadata": {},
   "outputs": [
    {
     "name": "stdout",
     "output_type": "stream",
     "text": [
      "Enter 4 Digit Number 1444\n",
      "<class 'int'>\n",
      " The sum of squares of first 2 digits number and last two-digit number is =  2132\n"
     ]
    }
   ],
   "source": [
    "import math\n",
    "def void_Fuc(x):\n",
    "    try:\n",
    "        x=int(x)\n",
    "        l=x\n",
    "        if(len(str(l))==4):\n",
    "            \n",
    "            print(type(x)) \n",
    "            A=(x%100)**2;\n",
    "            #print(A)\n",
    "            B=(math.trunc(x/100))**2\n",
    "            #print(B)\n",
    "            print(\" The sum of squares of first 2 digits number and last two-digit number is = \",A+B )\n",
    "   \n",
    "        else:\n",
    "           print(\"Enter 4 Digit number\")\n",
    "    \n",
    "    except ValueError:\n",
    "        print(\"The Entered Value is not an Interger ....! Please Enter Integer\")\n",
    "        \n",
    "        \n",
    "    \n",
    "void_Fuc(input(\"Enter 4 Digit Number \" ))\n"
   ]
  },
  {
   "cell_type": "markdown",
   "metadata": {},
   "source": [
    "__Write a function that takes one argument (a +ve int) and report if the argument is\n",
    "prime or not.WAP that invokes this function.__\n"
   ]
  },
  {
   "cell_type": "code",
   "execution_count": null,
   "metadata": {},
   "outputs": [],
   "source": []
  },
  {
   "cell_type": "code",
   "execution_count": 10,
   "metadata": {},
   "outputs": [
    {
     "name": "stdout",
     "output_type": "stream",
     "text": [
      "Enter the Number to Check : asa\n",
      "The Entered Value is not an Interger ....! Please Enter Integer\n"
     ]
    }
   ],
   "source": [
    "def Check_Prime(x):\n",
    "\n",
    "    try:\n",
    "        x=int(x)\n",
    "        if(x>1):\n",
    "            for i in range(2,x):\n",
    "                 \n",
    "                 if(x % i)==0:\n",
    "                    print(x,\"Not a Prime Number\")\n",
    "                    break\n",
    "            else:\n",
    "                print(x,\"is a prime number\")\n",
    "        else:\n",
    "            print(x,\"Not a Prime number\")\n",
    "\n",
    "    except ValueError:\n",
    "        print(\"The Entered Value is not an Interger ....! Please Enter Integer\")\n",
    "        \n",
    "        \n",
    "Check_Prime(input(\"Enter the Number to Check : \"))"
   ]
  },
  {
   "cell_type": "markdown",
   "metadata": {},
   "source": [
    "__WAP that takes a character (i.e a string of length 1) and returns TRUE if it is a\n",
    "vowel, FALSE otherwise. (Hint: Make use of logical operator)__\n"
   ]
  },
  {
   "cell_type": "code",
   "execution_count": 96,
   "metadata": {},
   "outputs": [
    {
     "name": "stdout",
     "output_type": "stream",
     "text": [
      "Enter a Character : D\n",
      "d is not a Vowel\n"
     ]
    }
   ],
   "source": [
    "vowels=['a','e','i','o','u']\n",
    "char=input(\"Enter a Character : \")\n",
    "char=char.lower()\n",
    "if(char.isdigit()):\n",
    "    print(\"\\n Enter an Character \")\n",
    "else:    \n",
    "\n",
    "    for i in vowels:\n",
    "        if(i in char):\n",
    "            print(char,\"is Vowel\")\n",
    "            break\n",
    "        else: \n",
    "            print(char,\"is not a Vowel\")\n",
    "            break\n",
    " "
   ]
  },
  {
   "cell_type": "markdown",
   "metadata": {},
   "source": [
    "__WAP to get the last digit cube.__"
   ]
  },
  {
   "cell_type": "code",
   "execution_count": 13,
   "metadata": {},
   "outputs": [
    {
     "name": "stdout",
     "output_type": "stream",
     "text": [
      "\n",
      "Enter the number : ljdg\n",
      "The Entered Value is not an Interger ....! Please Enter Integer\n"
     ]
    }
   ],
   "source": [
    "import math\n",
    "def Cube(number):   \n",
    "    try:\n",
    "            number=int(number)\n",
    "            number=number % 10            \n",
    "            print(\"\\nThe Last digit of a number is :\" ,number)\n",
    "            number=math.pow(number,3)\n",
    "            print(number)\n",
    "\n",
    "    except ValueError:\n",
    "        print(\"The Entered Value is not an Interger ....! Please Enter Integer\")\n",
    "            \n",
    "Cube(input(\"\\nEnter the number : \"))"
   ]
  },
  {
   "cell_type": "markdown",
   "metadata": {},
   "source": [
    "__Write a Python program that takes a list and returns a new list with unique\n",
    "elements of the first list.__"
   ]
  },
  {
   "cell_type": "code",
   "execution_count": 15,
   "metadata": {},
   "outputs": [
    {
     "name": "stdout",
     "output_type": "stream",
     "text": [
      "Unique Value in Df is  [ 1  2  3  5 34  6  7  0  8  9]\n"
     ]
    }
   ],
   "source": [
    "# using pandas package\n",
    "\n",
    "\n",
    "import pandas as pd\n",
    "lst=[1,2,3,5,2,34,1,5,6,7,3,0,8,9,0]\n",
    "df=pd.DataFrame(lst,columns=['Number_List'])\n",
    "print(\"Unique Value in Df is \", df['Number_List'].unique())\n",
    "\n"
   ]
  },
  {
   "cell_type": "code",
   "execution_count": 20,
   "metadata": {},
   "outputs": [
    {
     "name": "stdout",
     "output_type": "stream",
     "text": [
      "1\n",
      "2\n",
      "3\n",
      "5\n",
      "34\n",
      "6\n",
      "7\n",
      "0\n",
      "8\n",
      "9\n",
      "[1, 2, 3, 5, 34, 6, 7, 0, 8, 9]\n"
     ]
    }
   ],
   "source": [
    "# with Different Method one of the solution of question 10\n",
    "\n",
    "def unique(lst):\n",
    "    unique_lst=[]\n",
    "    for x in lst:\n",
    "        if x not in unique_lst:\n",
    "            unique_lst.append(x)\n",
    "\n",
    "    for x in unique_lst:\n",
    "        print(x)\n",
    "\n",
    "    print(unique_lst)\n",
    "    \n",
    "    \n",
    "lst=[1,2,3,5,2,34,1,5,6,7,3,0,8,9,0]    \n",
    "unique(lst)    "
   ]
  },
  {
   "cell_type": "code",
   "execution_count": 21,
   "metadata": {},
   "outputs": [
    {
     "name": "stdout",
     "output_type": "stream",
     "text": [
      "[0, 1, 2, 3, 34, 5, 6, 7, 8, 9]\n"
     ]
    }
   ],
   "source": [
    "# it will give all unique value in ascending order set and then list\n",
    "\n",
    "newlist=set(lst)\n",
    "uniquelist=list(newlist)\n",
    "print(uniquelist)                      "
   ]
  },
  {
   "cell_type": "markdown",
   "metadata": {},
   "source": [
    "__Rough Work__ ...............__Please Ignore__"
   ]
  },
  {
   "cell_type": "code",
   "execution_count": 4,
   "metadata": {},
   "outputs": [
    {
     "name": "stdout",
     "output_type": "stream",
     "text": [
      "34\n"
     ]
    }
   ],
   "source": [
    "\n",
    "\n",
    "a=1234\n",
    "print(a%100)\n"
   ]
  },
  {
   "cell_type": "code",
   "execution_count": 63,
   "metadata": {},
   "outputs": [
    {
     "name": "stdout",
     "output_type": "stream",
     "text": [
      "0\n",
      "l= 4\n",
      "4\n",
      "4\n",
      "l= 3\n",
      "43\n",
      "43\n",
      "l= 2\n",
      "432\n",
      "432\n",
      "l= 1\n",
      "4321\n",
      "4321\n"
     ]
    }
   ],
   "source": [
    "x=1234\n",
    "rev=0\n",
    "for i in range(1,5,1):\n",
    "            print(rev)\n",
    "            l=x%10;\n",
    "            l=math.trunc(l)\n",
    "            print(\"l=\",l)\n",
    "            rev=rev*10 + l\n",
    "            \n",
    "            print(rev)\n",
    "            x=x/10\n",
    "            \n",
    "print(rev)        "
   ]
  },
  {
   "cell_type": "code",
   "execution_count": 16,
   "metadata": {},
   "outputs": [],
   "source": []
  },
  {
   "cell_type": "code",
   "execution_count": null,
   "metadata": {},
   "outputs": [],
   "source": []
  }
 ],
 "metadata": {
  "kernelspec": {
   "display_name": "Python 3",
   "language": "python",
   "name": "python3"
  },
  "language_info": {
   "codemirror_mode": {
    "name": "ipython",
    "version": 3
   },
   "file_extension": ".py",
   "mimetype": "text/x-python",
   "name": "python",
   "nbconvert_exporter": "python",
   "pygments_lexer": "ipython3",
   "version": "3.7.4"
  }
 },
 "nbformat": 4,
 "nbformat_minor": 2
}
